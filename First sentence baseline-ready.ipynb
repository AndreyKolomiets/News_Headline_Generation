{
 "cells": [
  {
   "cell_type": "code",
   "execution_count": 1,
   "metadata": {},
   "outputs": [],
   "source": [
    "import sys\n",
    "sys.path.append('/home/jovyan/work/_Headline_generation/News_Headline_Generation/')"
   ]
  },
  {
   "cell_type": "code",
   "execution_count": 114,
   "metadata": {},
   "outputs": [],
   "source": [
    "import numpy as np\n",
    "import rouge\n",
    "from tqdm import tqdm, trange\n",
    "from multiprocessing import Pool\n",
    "from joblib import Parallel, delayed\n",
    "import re\n",
    "from ipymarkup import show_markup\n",
    "from itertools import chain\n",
    "import matplotlib.pyplot as plt\n",
    "from collections import Counter\n",
    "import heapq\n",
    "%matplotlib inline\n",
    "from termcolor import colored"
   ]
  },
  {
   "cell_type": "code",
   "execution_count": 79,
   "metadata": {},
   "outputs": [
    {
     "data": {
      "text/plain": [
       "<module 'utils' from '/home/jovyan/work/_Headline_generation/News_Headline_Generation/utils.py'>"
      ]
     },
     "execution_count": 79,
     "metadata": {},
     "output_type": "execute_result"
    }
   ],
   "source": [
    "import utils\n",
    "import imp\n",
    "imp.reload(utils)"
   ]
  },
  {
   "cell_type": "code",
   "execution_count": 4,
   "metadata": {},
   "outputs": [
    {
     "name": "stderr",
     "output_type": "stream",
     "text": [
      "1003869it [00:56, 17722.92it/s]\n"
     ]
    },
    {
     "name": "stdout",
     "output_type": "stream",
     "text": [
      "CPU times: user 50.8 s, sys: 6.42 s, total: 57.2 s\n",
      "Wall time: 56.6 s\n"
     ]
    }
   ],
   "source": [
    "%%time\n",
    "texts, titles = utils.load_data('/home/jovyan/work/_Headline_generation/ria.json')"
   ]
  },
  {
   "cell_type": "code",
   "execution_count": 5,
   "metadata": {},
   "outputs": [],
   "source": [
    "pool = Pool(10)"
   ]
  },
  {
   "cell_type": "code",
   "execution_count": 6,
   "metadata": {},
   "outputs": [
    {
     "name": "stderr",
     "output_type": "stream",
     "text": [
      "100%|██████████| 1003869/1003869 [01:34<00:00, 10619.58it/s]\n"
     ]
    }
   ],
   "source": [
    "parsed = pool.map(utils.parse_source, tqdm(texts))"
   ]
  },
  {
   "cell_type": "markdown",
   "metadata": {},
   "source": [
    "## Первые предложения"
   ]
  },
  {
   "cell_type": "code",
   "execution_count": 22,
   "metadata": {},
   "outputs": [
    {
     "name": "stderr",
     "output_type": "stream",
     "text": [
      "100%|██████████| 1003869/1003869 [00:54<00:00, 18545.54it/s]\n"
     ]
    }
   ],
   "source": [
    "tokenizer = utils.FirstSentenceTokenizer()\n",
    "first_sentences = [tokenizer.tokenize(_) for _ in tqdm(parsed)]"
   ]
  },
  {
   "cell_type": "code",
   "execution_count": 23,
   "metadata": {},
   "outputs": [],
   "source": [
    "lengths = [len(_) for _ in first_sentences]"
   ]
  },
  {
   "cell_type": "code",
   "execution_count": 24,
   "metadata": {},
   "outputs": [
    {
     "data": {
      "text/plain": [
       "0"
      ]
     },
     "execution_count": 24,
     "metadata": {},
     "output_type": "execute_result"
    }
   ],
   "source": [
    "min(lengths)"
   ]
  },
  {
   "cell_type": "code",
   "execution_count": 25,
   "metadata": {},
   "outputs": [
    {
     "data": {
      "image/png": "[encoded data removed]",
      "text/plain": [
       "<Figure size 432x288 with 1 Axes>"
      ]
     },
     "metadata": {},
     "output_type": "display_data"
    }
   ],
   "source": [
    "plt.hist(lengths, bins=np.logspace(0, 3.6, 20))\n",
    "plt.gca().set_xscale('log')\n",
    "plt.gca().set_yscale('log')"
   ]
  },
  {
   "cell_type": "markdown",
   "metadata": {},
   "source": [
    "### Получение словаря"
   ]
  },
  {
   "cell_type": "code",
   "execution_count": null,
   "metadata": {},
   "outputs": [],
   "source": [
    "from collections import Counter"
   ]
  },
  {
   "cell_type": "code",
   "execution_count": null,
   "metadata": {},
   "outputs": [],
   "source": [
    "regex_word = re.compile('[а-яёa-z\\-]+')\n",
    "freq = Counter()\n",
    "for sentence in tqdm(first_sentences):\n",
    "    for word in regex_word.findall(sentence):\n",
    "        freq[word] += 1"
   ]
  },
  {
   "cell_type": "code",
   "execution_count": null,
   "metadata": {
    "scrolled": true
   },
   "outputs": [],
   "source": [
    "freq.most_common(100)"
   ]
  },
  {
   "cell_type": "code",
   "execution_count": null,
   "metadata": {},
   "outputs": [],
   "source": [
    "plt.hist(list(freq.values()), bins=np.logspace(0, 6.3, 20))\n",
    "plt.gca().set_xscale('log')\n",
    "plt.gca().set_yscale('log')"
   ]
  },
  {
   "cell_type": "code",
   "execution_count": null,
   "metadata": {},
   "outputs": [],
   "source": [
    "all_words = sum(freq.values())\n",
    "top_words = sum(_[1] for _ in freq.most_common(50000))\n",
    "top_words / all_words"
   ]
  },
  {
   "cell_type": "markdown",
   "metadata": {},
   "source": [
    "### Получение скоров без фильтрации редких слов"
   ]
  },
  {
   "cell_type": "code",
   "execution_count": 26,
   "metadata": {},
   "outputs": [],
   "source": [
    "from rouge import Rouge \n",
    "scorer = Rouge()"
   ]
  },
  {
   "cell_type": "code",
   "execution_count": 27,
   "metadata": {},
   "outputs": [],
   "source": [
    "first_sentences = [first_sentences[i] if len(first_sentences[i]) > 3 else titles[i] for i in range(len(first_sentences)) ]"
   ]
  },
  {
   "cell_type": "code",
   "execution_count": 28,
   "metadata": {},
   "outputs": [
    {
     "data": {
      "text/plain": [
       "6"
      ]
     },
     "execution_count": 28,
     "metadata": {},
     "output_type": "execute_result"
    }
   ],
   "source": [
    "min(len(_) for _ in titles)"
   ]
  },
  {
   "cell_type": "code",
   "execution_count": 29,
   "metadata": {},
   "outputs": [],
   "source": [
    "titles = [titles[i] if len(titles[i]) > 5 else 'а'*20 for i in range(len(titles)) ]"
   ]
  },
  {
   "cell_type": "code",
   "execution_count": 30,
   "metadata": {},
   "outputs": [
    {
     "data": {
      "text/plain": [
       "4"
      ]
     },
     "execution_count": 30,
     "metadata": {},
     "output_type": "execute_result"
    }
   ],
   "source": [
    "lengths = [len(_) for _ in first_sentences]\n",
    "min(lengths)"
   ]
  },
  {
   "cell_type": "code",
   "execution_count": 31,
   "metadata": {
    "scrolled": true
   },
   "outputs": [
    {
     "name": "stdout",
     "output_type": "stream",
     "text": [
      "CPU times: user 7min 55s, sys: 2.09 s, total: 7min 57s\n",
      "Wall time: 7min 56s\n"
     ]
    },
    {
     "data": {
      "text/plain": [
       "{'rouge-1': {'f': 0.2486609340575932,\n",
       "  'p': 0.1749548838258469,\n",
       "  'r': 0.4695426866963995},\n",
       " 'rouge-2': {'f': 0.11076440032561513,\n",
       "  'p': 0.0766843257758511,\n",
       "  'r': 0.22291123126761683},\n",
       " 'rouge-l': {'f': 0.17336727901459906,\n",
       "  'p': 0.1606306228037659,\n",
       "  'r': 0.4301897932667798}}"
      ]
     },
     "execution_count": 31,
     "metadata": {},
     "output_type": "execute_result"
    }
   ],
   "source": [
    "%%time\n",
    "scorer.get_scores(first_sentences, titles, avg=True)"
   ]
  },
  {
   "cell_type": "code",
   "execution_count": 82,
   "metadata": {},
   "outputs": [
    {
     "data": {
      "text/plain": [
       "0.17759753779926912"
      ]
     },
     "execution_count": 82,
     "metadata": {},
     "output_type": "execute_result"
    }
   ],
   "source": [
    "(0.2486609340575932+0.11076440032561513+0.17336727901459906)/3"
   ]
  },
  {
   "cell_type": "code",
   "execution_count": 32,
   "metadata": {},
   "outputs": [
    {
     "data": {
      "text/plain": [
       "'до 7 февраля - того дня, когда граждане украины решат, кто на ближайшие пять лет возьмет бразды правления страной в свои руки, - осталась ровно неделя'"
      ]
     },
     "execution_count": 32,
     "metadata": {},
     "output_type": "execute_result"
    }
   ],
   "source": [
    "first_sentences[2]"
   ]
  },
  {
   "cell_type": "markdown",
   "metadata": {},
   "source": [
    "### Получение скоров с фильтрацией редких слов"
   ]
  },
  {
   "cell_type": "markdown",
   "metadata": {},
   "source": [
    "Получим словарь"
   ]
  },
  {
   "cell_type": "code",
   "execution_count": 51,
   "metadata": {},
   "outputs": [
    {
     "name": "stderr",
     "output_type": "stream",
     "text": [
      "2007738it [00:45, 44219.59it/s]\n"
     ]
    }
   ],
   "source": [
    "vocab = utils.get_vocab(chain(titles, first_sentences))"
   ]
  },
  {
   "cell_type": "markdown",
   "metadata": {},
   "source": [
    "Отфильтруем самые частые слова"
   ]
  },
  {
   "cell_type": "code",
   "execution_count": 52,
   "metadata": {},
   "outputs": [],
   "source": [
    "vocab_top_frequent = utils.filter_vocab(vocab, n=50000)"
   ]
  },
  {
   "cell_type": "markdown",
   "metadata": {},
   "source": [
    "Получим заголовки и первые предложения без знаков препинания и редких слов"
   ]
  },
  {
   "cell_type": "code",
   "execution_count": 53,
   "metadata": {},
   "outputs": [
    {
     "name": "stderr",
     "output_type": "stream",
     "text": [
      "100%|██████████| 1003869/1003869 [00:08<00:00, 121938.86it/s]\n",
      "100%|██████████| 1003869/1003869 [00:23<00:00, 42232.16it/s]\n"
     ]
    }
   ],
   "source": [
    "titles_filtered = utils.filter_texts(titles, vocab_top_frequent)\n",
    "first_sentences_filtered = utils.filter_texts(first_sentences, vocab_top_frequent)"
   ]
  },
  {
   "cell_type": "code",
   "execution_count": 57,
   "metadata": {},
   "outputs": [],
   "source": [
    "titles_filtered = [titles_filtered[i] if len(titles_filtered[i]) > 5 else 'а'*20 for i in range(len(titles_filtered)) ]\n",
    "first_sentences_filtered = [first_sentences_filtered[i] if len(first_sentences_filtered[i]) > 3 else titles_filtered[i] for i in range(len(first_sentences_filtered)) ]"
   ]
  },
  {
   "cell_type": "code",
   "execution_count": 62,
   "metadata": {},
   "outputs": [
    {
     "name": "stdout",
     "output_type": "stream",
     "text": [
      "CPU times: user 6min 57s, sys: 1.51 s, total: 6min 59s\n",
      "Wall time: 6min 58s\n"
     ]
    },
    {
     "data": {
      "text/plain": [
       "{'rouge-1': {'f': 0.2842236396665328,\n",
       "  'p': 0.2000193040853728,\n",
       "  'r': 0.5414221130501112},\n",
       " 'rouge-2': {'f': 0.12612636548805686,\n",
       "  'p': 0.08720967178968597,\n",
       "  'r': 0.257567061552075},\n",
       " 'rouge-l': {'f': 0.19571938456778085,\n",
       "  'p': 0.18177296712670088,\n",
       "  'r': 0.4906582209423502}}"
      ]
     },
     "execution_count": 62,
     "metadata": {},
     "output_type": "execute_result"
    }
   ],
   "source": [
    "%%time\n",
    "scorer.get_scores(first_sentences_filtered, titles_filtered, avg=True)"
   ]
  },
  {
   "cell_type": "code",
   "execution_count": 84,
   "metadata": {},
   "outputs": [
    {
     "data": {
      "text/plain": [
       "0.20202312990745683"
      ]
     },
     "execution_count": 84,
     "metadata": {},
     "output_type": "execute_result"
    }
   ],
   "source": [
    "(0.2842236396665328+0.12612636548805686+0.19571938456778085)/3"
   ]
  },
  {
   "cell_type": "markdown",
   "metadata": {},
   "source": [
    "### Получение скоров с сохранением пунктуации"
   ]
  },
  {
   "cell_type": "code",
   "execution_count": 80,
   "metadata": {},
   "outputs": [
    {
     "name": "stderr",
     "output_type": "stream",
     "text": [
      "100%|██████████| 1003869/1003869 [00:15<00:00, 63689.27it/s]\n",
      "100%|██████████| 1003869/1003869 [00:40<00:00, 24493.04it/s]\n"
     ]
    }
   ],
   "source": [
    "titles_filtered = utils.filter_texts_with_punctuation_spaces(titles, vocab_top_frequent)\n",
    "first_sentences_filtered = utils.filter_texts_with_punctuation_spaces(first_sentences, vocab_top_frequent)\n",
    "titles_filtered = [titles_filtered[i] if len(titles_filtered[i]) > 5 else 'а'*20 for i in range(len(titles_filtered)) ]\n",
    "first_sentences_filtered = [first_sentences_filtered[i] if len(first_sentences_filtered[i]) > 3 else titles_filtered[i] for i in range(len(first_sentences_filtered)) ]\n"
   ]
  },
  {
   "cell_type": "code",
   "execution_count": 81,
   "metadata": {},
   "outputs": [
    {
     "name": "stdout",
     "output_type": "stream",
     "text": [
      "CPU times: user 7min 33s, sys: 1.77 s, total: 7min 34s\n",
      "Wall time: 7min 33s\n"
     ]
    },
    {
     "data": {
      "text/plain": [
       "{'rouge-1': {'f': 0.25675646704517774,\n",
       "  'p': 0.18067755018686546,\n",
       "  'r': 0.49011926614274137},\n",
       " 'rouge-2': {'f': 0.11654683276540687,\n",
       "  'p': 0.08114441280707248,\n",
       "  'r': 0.23452119002988178},\n",
       " 'rouge-l': {'f': 0.17894743541237113,\n",
       "  'p': 0.16617113221318203,\n",
       "  'r': 0.44973780457592655}}"
      ]
     },
     "execution_count": 81,
     "metadata": {},
     "output_type": "execute_result"
    }
   ],
   "source": [
    "%%time\n",
    "scorer.get_scores(first_sentences_filtered, titles_filtered, avg=True)"
   ]
  },
  {
   "cell_type": "markdown",
   "metadata": {},
   "source": [
    "Получим также скоры для каждого предложения отдельно и найдем наихудшие"
   ]
  },
  {
   "cell_type": "code",
   "execution_count": 88,
   "metadata": {},
   "outputs": [
    {
     "name": "stderr",
     "output_type": "stream",
     "text": [
      "100%|██████████| 1003869/1003869 [08:05<00:00, 2066.95it/s]\n"
     ]
    }
   ],
   "source": [
    "scores_single = [scorer.get_scores(first_sentences_filtered[i], titles_filtered[i]) for i in trange(len(first_sentences_filtered))]"
   ]
  },
  {
   "cell_type": "code",
   "execution_count": 91,
   "metadata": {},
   "outputs": [
    {
     "data": {
      "text/plain": [
       "1"
      ]
     },
     "execution_count": 91,
     "metadata": {},
     "output_type": "execute_result"
    }
   ],
   "source": [
    "max(len(_) for _ in scores_single)"
   ]
  },
  {
   "cell_type": "code",
   "execution_count": 98,
   "metadata": {},
   "outputs": [
    {
     "data": {
      "text/plain": [
       "0.41619560796253974"
      ]
     },
     "execution_count": 98,
     "metadata": {},
     "output_type": "execute_result"
    }
   ],
   "source": [
    "scores_single[0][0]['rouge-1']['f'] + scores_single[0][0]['rouge-2']['f'] + scores_single[0][0]['rouge-l']['f']"
   ]
  },
  {
   "cell_type": "code",
   "execution_count": 139,
   "metadata": {},
   "outputs": [],
   "source": [
    "def mean_f1(x):\n",
    "    return (x[1][0]['rouge-1']['f'] + x[1][0]['rouge-2']['f'] + x[1][0]['rouge-l']['f']) / 3\n",
    "worst = heapq.nsmallest(10000, enumerate(scores_single), key=mean_f1)"
   ]
  },
  {
   "cell_type": "code",
   "execution_count": 161,
   "metadata": {},
   "outputs": [
    {
     "name": "stdout",
     "output_type": "stream",
     "text": [
      "Средняя F-мера: 0.0\n",
      "\u001b[32mПервое предложение: do tej pory płaczę myśląc o tej tragedii\u001b[0m\n",
      "Отфильтрованное первое предложение: do tej p my l c o tej tragedii\n",
      "\u001b[32mЗаголовок: аааааааааааааааааааа\u001b[0m\n",
      "Отфильтрованный заголовок: аааааааааааааааааааа\n",
      "\u001b[34mТекст без тегов:\n",
      " do tej pory płaczę myśląc o tej tragedii. szok i przerażenie pierwszych godzin zastąpiły żal i współczucie. przyjmijcie nasze kondolencje. i niech pan bóg da naszym krajom pokój i wzajemne zrozumienie!\u001b[0m\n"
     ]
    }
   ],
   "source": [
    "j = np.random.choice(len(worst))\n",
    "i = worst[j][0]\n",
    "f1 = mean_f1(worst[j])\n",
    "print('Средняя F-мера:', f1)\n",
    "print(colored(f'Первое предложение: {first_sentences[i]}', color='green'))\n",
    "print('Отфильтрованное первое предложение:', first_sentences_filtered[i])\n",
    "print(colored(f'Заголовок: {titles[i]}', color='green'))\n",
    "print('Отфильтрованный заголовок:', titles_filtered[i])\n",
    "\n",
    "print(colored(f'Текст без тегов:\\n {parsed[i]}', color='blue'))"
   ]
  },
  {
   "cell_type": "code",
   "execution_count": 162,
   "metadata": {},
   "outputs": [],
   "source": [
    "best = heapq.nlargest(10000, enumerate(scores_single), key=mean_f1)"
   ]
  },
  {
   "cell_type": "code",
   "execution_count": 165,
   "metadata": {},
   "outputs": [
    {
     "name": "stdout",
     "output_type": "stream",
     "text": [
      "Средняя F-мера: 0.7414874595859814\n",
      "\u001b[32mПервое предложение: сорок человек эвакуировали в уфе из-за пожара на крыше жилого дома, сообщается на сайте мчс рф\u001b[0m\n",
      "Отфильтрованное первое предложение: сорок человек эвакуировали в уфе из-за пожара на крыше жилого дома, сообщается на сайте мчс рф\n",
      "\u001b[32mЗаголовок: сорок человек эвакуировали в уфе из-за пожара на крыше жилого дома\u001b[0m\n",
      "Отфильтрованный заголовок: сорок человек эвакуировали в уфе из-за пожара на крыше жилого дома\n",
      "\u001b[34mТекст без тегов:\n",
      " \n",
      "москва, 28 дек — риа новости. сорок человек эвакуировали в уфе из-за пожара на крыше жилого дома, сообщается на сайте мчс рф.\n",
      "информация о возгорании на крыше дома 34 по улице султанова поступила в четверг в 21.33 мск. спустя час огонь был локализован на площади 600 квадратных метров. спасатели эвакуировали 40 жильцов.\n",
      "\"в 00.53 мск 28 декабря пожар ликвидирован. погибших и пострадавших нет\", — говорится на сайте.\u001b[0m\n"
     ]
    }
   ],
   "source": [
    "j = np.random.choice(len(best))\n",
    "i = best[j][0]\n",
    "f1 = mean_f1(best[j])\n",
    "print('Средняя F-мера:', f1)\n",
    "print(colored(f'Первое предложение: {first_sentences[i]}', color='green'))\n",
    "print('Отфильтрованное первое предложение:', first_sentences_filtered[i])\n",
    "print(colored(f'Заголовок: {titles[i]}', color='green'))\n",
    "print('Отфильтрованный заголовок:', titles_filtered[i])\n",
    "\n",
    "print(colored(f'Текст без тегов:\\n {parsed[i]}', color='blue'))"
   ]
  },
  {
   "cell_type": "markdown",
   "metadata": {},
   "source": [
    "Типичные причины низких скоров:\n",
    "* Первое предложение распознано неправильно из-за ошибок в тексте. Часто в заметках есть типовое предложение вида `петропавловск-камчатский, 7 янв - риа новости`. Его мы пропускаем и в качестве гипотезы берем следующее предложение. Регулярка, который мы ищем это типовое предложение, срабатывает не всегда. Например, `петропавловск-камчатский, 7 янв- риа новости` - здесь должен быть пробел перед тире. Также было, что после названия города стоит точка, а не запятая.\n",
    "* Первое предложение заметно длиннее заголовка\n",
    "* Есть тексты, отличающиеся от типичных новостных заметок (записи в блоге, аналитика, письма читателей). Они написаны более свободным стилем, и первое предложение может не содержать обобщения статьи."
   ]
  },
  {
   "cell_type": "markdown",
   "metadata": {},
   "source": [
    "Проанализируем, как метрика зависит от разности длин"
   ]
  },
  {
   "cell_type": "code",
   "execution_count": 134,
   "metadata": {},
   "outputs": [],
   "source": [
    "len_diff = [abs(len(x) - len(y)) + 1 for x, y in zip(first_sentences_filtered, titles_filtered)]\n",
    "f1 = [mean_f1(_) for _ in enumerate(scores_single)]"
   ]
  },
  {
   "cell_type": "code",
   "execution_count": 135,
   "metadata": {},
   "outputs": [
    {
     "data": {
      "text/plain": [
       "<matplotlib.collections.PathCollection at 0x7f6db8af17f0>"
      ]
     },
     "execution_count": 135,
     "metadata": {},
     "output_type": "execute_result"
    },
    {
     "data": {
      "image/png": "[encoded data removed]",
      "text/plain": [
       "<Figure size 432x288 with 1 Axes>"
      ]
     },
     "metadata": {},
     "output_type": "display_data"
    }
   ],
   "source": [
    "plt.scatter(len_diff, f1)"
   ]
  },
  {
   "cell_type": "code",
   "execution_count": 136,
   "metadata": {},
   "outputs": [
    {
     "data": {
      "image/png": "[encoded data removed]",
      "text/plain": [
       "<Figure size 432x288 with 1 Axes>"
      ]
     },
     "metadata": {},
     "output_type": "display_data"
    }
   ],
   "source": [
    "plt.scatter(len_diff, f1)\n",
    "plt.gca().set_xscale('log')"
   ]
  },
  {
   "cell_type": "code",
   "execution_count": 133,
   "metadata": {},
   "outputs": [
    {
     "data": {
      "text/plain": [
       "(array([[ 1.        , -0.27873493],\n",
       "        [-0.27873493,  1.        ]]), array([[ 1.        , -0.24160674],\n",
       "        [-0.24160674,  1.        ]]))"
      ]
     },
     "execution_count": 133,
     "metadata": {},
     "output_type": "execute_result"
    }
   ],
   "source": [
    "np.corrcoef(len_diff, f1), np.corrcoef(np.log1p(len_diff), f1)"
   ]
  },
  {
   "cell_type": "code",
   "execution_count": 83,
   "metadata": {},
   "outputs": [
    {
     "data": {
      "text/plain": [
       "0.1840835784076519"
      ]
     },
     "execution_count": 83,
     "metadata": {},
     "output_type": "execute_result"
    }
   ],
   "source": [
    "(0.25675646704517774+0.11654683276540687+0.17894743541237113)/3"
   ]
  },
  {
   "cell_type": "markdown",
   "metadata": {},
   "source": [
    "### Уникальные символы"
   ]
  },
  {
   "cell_type": "code",
   "execution_count": 34,
   "metadata": {},
   "outputs": [
    {
     "name": "stderr",
     "output_type": "stream",
     "text": [
      "100%|██████████| 2007738/2007738 [00:33<00:00, 59274.35it/s]\n"
     ]
    }
   ],
   "source": [
    "symbols = ''.join({c for text in tqdm(chain(first_sentences, titles), total=len(titles) + len(first_sentences)) for c in text})"
   ]
  },
  {
   "cell_type": "code",
   "execution_count": 37,
   "metadata": {
    "scrolled": true
   },
   "outputs": [
    {
     "data": {
      "text/plain": [
       "['\\t',\n",
       " '\\n',\n",
       " ' ',\n",
       " '!',\n",
       " '\"',\n",
       " '#',\n",
       " '$',\n",
       " '%',\n",
       " '&',\n",
       " \"'\",\n",
       " '(',\n",
       " ')',\n",
       " '*',\n",
       " '+',\n",
       " ',',\n",
       " '-',\n",
       " '.',\n",
       " '/',\n",
       " ':',\n",
       " ';',\n",
       " '<',\n",
       " '=',\n",
       " '>',\n",
       " '?',\n",
       " '@',\n",
       " '[',\n",
       " '\\\\',\n",
       " ']',\n",
       " '^',\n",
       " '_',\n",
       " '`',\n",
       " '{',\n",
       " '|',\n",
       " '}',\n",
       " '\\x96',\n",
       " '\\x98',\n",
       " '\\xa0',\n",
       " '¡',\n",
       " '£',\n",
       " '¤',\n",
       " '©',\n",
       " '«',\n",
       " '¬',\n",
       " '\\xad',\n",
       " '®',\n",
       " '°',\n",
       " '¸',\n",
       " '»',\n",
       " '×',\n",
       " '˚',\n",
       " '́',\n",
       " '̆',\n",
       " '̇',\n",
       " '\\u200b',\n",
       " '\\u200e',\n",
       " '\\u200f',\n",
       " '‐',\n",
       " '‑',\n",
       " '–',\n",
       " '—',\n",
       " '―',\n",
       " '‘',\n",
       " '’',\n",
       " '“',\n",
       " '”',\n",
       " '„',\n",
       " '•',\n",
       " '…',\n",
       " '\\u202a',\n",
       " '′',\n",
       " '€',\n",
       " '№',\n",
       " '™',\n",
       " '−',\n",
       " '─',\n",
       " '╗',\n",
       " '\\ufeff',\n",
       " '＄',\n",
       " '�']"
      ]
     },
     "execution_count": 37,
     "metadata": {},
     "output_type": "execute_result"
    }
   ],
   "source": [
    "sorted(_ for _ in symbols if not _.isalnum())"
   ]
  },
  {
   "cell_type": "code",
   "execution_count": 39,
   "metadata": {},
   "outputs": [
    {
     "name": "stderr",
     "output_type": "stream",
     "text": [
      "100%|██████████| 2007738/2007738 [03:14<00:00, 10317.05it/s]\n"
     ]
    }
   ],
   "source": [
    "symb_freq = Counter()\n",
    "for text in tqdm(chain(first_sentences, titles), total=len(titles) + len(first_sentences)):\n",
    "    for c in text:\n",
    "        symb_freq[c] += 1"
   ]
  },
  {
   "cell_type": "code",
   "execution_count": 59,
   "metadata": {
    "scrolled": true
   },
   "outputs": [
    {
     "data": {
      "text/plain": [
       "[(' ', 32005918),\n",
       " ('о', 23939338),\n",
       " ('и', 18469403),\n",
       " ('а', 18237326),\n",
       " ('е', 18017618),\n",
       " ('н', 14467269),\n",
       " ('р', 14095822),\n",
       " ('с', 13896311),\n",
       " ('т', 13307079),\n",
       " ('в', 11546841),\n",
       " ('л', 9067785),\n",
       " ('к', 7945272),\n",
       " ('п', 6791019),\n",
       " ('д', 6727731),\n",
       " ('м', 6322082),\n",
       " ('у', 5551596),\n",
       " ('г', 4249210),\n",
       " ('б', 4000556),\n",
       " ('я', 3549545),\n",
       " ('ы', 3439236),\n",
       " ('з', 3275300),\n",
       " ('й', 3116615),\n",
       " ('ь', 2704446),\n",
       " ('ч', 2208296),\n",
       " (',', 2193126),\n",
       " ('\\xa0', 1725141),\n",
       " ('х', 1722640),\n",
       " ('ж', 1612129),\n",
       " ('ц', 1536346),\n",
       " ('\"', 1281273),\n",
       " ('ф', 1197464),\n",
       " ('ш', 1196912),\n",
       " ('ю', 1111828),\n",
       " ('щ', 1064573),\n",
       " ('-', 841800),\n",
       " ('1', 517336),\n",
       " ('0', 506249),\n",
       " ('э', 494420),\n",
       " ('2', 435471),\n",
       " ('e', 224614),\n",
       " ('a', 220043),\n",
       " ('i', 204440),\n",
       " ('o', 179629),\n",
       " ('(', 178504),\n",
       " (')', 174979),\n",
       " ('5', 170927),\n",
       " ('3', 167642),\n",
       " ('r', 162101),\n",
       " ('s', 156804),\n",
       " ('n', 152618),\n",
       " ('t', 148334),\n",
       " ('4', 141145),\n",
       " (':', 129687),\n",
       " ('l', 107963),\n",
       " ('6', 98111),\n",
       " ('.', 97371),\n",
       " ('7', 94994),\n",
       " ('8', 94320),\n",
       " ('c', 93190),\n",
       " ('9', 90524),\n",
       " ('ъ', 82207),\n",
       " ('u', 74722),\n",
       " ('p', 71777),\n",
       " ('d', 69592),\n",
       " ('m', 68665),\n",
       " ('%', 62986),\n",
       " ('g', 58071),\n",
       " ('b', 51376),\n",
       " ('h', 49632),\n",
       " ('w', 46455),\n",
       " ('f', 40796),\n",
       " ('y', 40769),\n",
       " ('—', 38444),\n",
       " ('k', 37601),\n",
       " ('v', 24597),\n",
       " ('\\n', 22364),\n",
       " ('z', 20454),\n",
       " (';', 17772),\n",
       " ('x', 16720),\n",
       " ('j', 14874),\n",
       " ('–', 12984),\n",
       " ('/', 11762),\n",
       " ('$', 8325),\n",
       " ('«', 7494),\n",
       " ('ё', 7270),\n",
       " ('?', 7252),\n",
       " ('»', 7192),\n",
       " ('!', 7104),\n",
       " ('q', 6813),\n",
       " ('&', 6641),\n",
       " (\"'\", 5676),\n",
       " ('№', 4379),\n",
       " ('ł', 3878),\n",
       " ('*', 2881),\n",
       " ('>', 2664),\n",
       " ('ę', 2562),\n",
       " ('ó', 2040),\n",
       " ('ą', 1652),\n",
       " ('+', 1539),\n",
       " ('ż', 1331)]"
      ]
     },
     "execution_count": 59,
     "metadata": {},
     "output_type": "execute_result"
    }
   ],
   "source": [
    "symb_freq.most_common(100)"
   ]
  },
  {
   "cell_type": "code",
   "execution_count": 49,
   "metadata": {
    "scrolled": true
   },
   "outputs": [
    {
     "data": {
      "text/plain": [
       "' ,\\xa0\"-():.%—\\n;–/$«?»!&\\'№*>+'"
      ]
     },
     "execution_count": 49,
     "metadata": {},
     "output_type": "execute_result"
    }
   ],
   "source": [
    "''.join([_[0] for _ in symb_freq.most_common(200) if (not _[0].isalnum()) and (_[1] > 1000)])"
   ]
  },
  {
   "cell_type": "code",
   "execution_count": null,
   "metadata": {},
   "outputs": [],
   "source": [
    "',\"-():.%—\\n;–/$«?»!&\\'№*>+][…‑“”'"
   ]
  },
  {
   "cell_type": "code",
   "execution_count": 60,
   "metadata": {},
   "outputs": [
    {
     "data": {
      "text/plain": [
       "'!\"#$%&\\'()*+,-./:;<=>?@[\\\\]^_`{|}~'"
      ]
     },
     "execution_count": 60,
     "metadata": {},
     "output_type": "execute_result"
    }
   ],
   "source": [
    "import string\n",
    "string.punctuation"
   ]
  },
  {
   "cell_type": "code",
   "execution_count": 74,
   "metadata": {},
   "outputs": [],
   "source": [
    "regex_punctuation_replace = re.compile('\\s([!%,.:;?])')"
   ]
  },
  {
   "cell_type": "code",
   "execution_count": 77,
   "metadata": {},
   "outputs": [
    {
     "data": {
      "text/plain": [
       "'авроы! выапоц, pdsof'"
      ]
     },
     "execution_count": 77,
     "metadata": {},
     "output_type": "execute_result"
    }
   ],
   "source": [
    "regex_punctuation_replace.sub(r'\\1', \"авроы ! выапоц , pdsof\")"
   ]
  },
  {
   "cell_type": "code",
   "execution_count": 87,
   "metadata": {},
   "outputs": [
    {
     "data": {
      "text/plain": [
       "'для продолжения силовой операции в\\xa0донбассе необходимо пополнение резервов военнослужащих, заявил в\\xa0воскресенье в\\xa0харькове министр обороны степан полторак, передает \"радио свобода\"'"
      ]
     },
     "execution_count": 87,
     "metadata": {},
     "output_type": "execute_result"
    }
   ],
   "source": [
    "first_sentences[np.random.choice(len(first_sentences))]"
   ]
  },
  {
   "cell_type": "code",
   "execution_count": null,
   "metadata": {},
   "outputs": [],
   "source": []
  }
 ],
 "metadata": {
  "kernelspec": {
   "display_name": "Python 3",
   "language": "python",
   "name": "python3"
  },
  "language_info": {
   "codemirror_mode": {
    "name": "ipython",
    "version": 3
   },
   "file_extension": ".py",
   "mimetype": "text/x-python",
   "name": "python",
   "nbconvert_exporter": "python",
   "pygments_lexer": "ipython3",
   "version": "3.6.3"
  }
 },
 "nbformat": 4,
 "nbformat_minor": 2
}
